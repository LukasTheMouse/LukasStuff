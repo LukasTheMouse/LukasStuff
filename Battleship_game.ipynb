{
 "cells": [
  {
   "cell_type": "code",
   "execution_count": 3,
   "metadata": {},
   "outputs": [],
   "source": [
    "import random as rand\n",
    "import click\n",
    "\n",
    "ships = {'S':1,'D':2,'C':3,'B':4,'A':5}\n",
    "\n",
    "names_ships = {'S':'Submarine','D':'Destroyer','C':'Cruiser','B':'Battleship','A':'Carrier'}"
   ]
  },
  {
   "cell_type": "code",
   "execution_count": 4,
   "metadata": {},
   "outputs": [],
   "source": [
    "def determine_size():\n",
    "    value = click.prompt(\"\"\"How big should I make the playboard? \\n provide me with a number between 10-12 to define the witdh and length of the board.\n",
    "            \\n\\n\\n Type 13 to exit the game \\n\\n\"\"\", type=click.IntRange(10, 13))\n",
    "    if value == 13:\n",
    "        print('See you later captain chickenshit :)')\n",
    "        exit()\n",
    "    else:\n",
    "        return value"
   ]
  },
  {
   "cell_type": "code",
   "execution_count": 4,
   "metadata": {},
   "outputs": [],
   "source": [
    "def determine_size():\n",
    "    while True:\n",
    "        try:\n",
    "            value = int(input(\"\"\"How big should I make the playboard? \\n provide me with a number between 10-12 to define the witdh and length of the board.\n",
    "            \\n\\n\\n Type 99 to exit the game \\n\\n\"\"\"))\n",
    "        except ValueError:\n",
    "            print(\"Sorry, I didn't understand that.\")\n",
    "            continue\n",
    "\n",
    "        if value == 99:\n",
    "            print('You are a coward captain you are leaving our men behind')\n",
    "            exit() \n",
    "        elif value < 9:\n",
    "            print(\"Sorry, your response must fall between 10 and 12\")\n",
    "            continue\n",
    "        elif value > 12:\n",
    "            print(\"Sorry, your response must fall between 10 and 12\")\n",
    "        else:\n",
    "            break\n",
    "    return value"
   ]
  },
  {
   "cell_type": "code",
   "execution_count": 5,
   "metadata": {},
   "outputs": [],
   "source": [
    "def make_field(x):\n",
    "    x = int(x)\n",
    "    board = []\n",
    "    playerboard = []\n",
    "    for i in range(x):\n",
    "        board.append([\"0\"] * (x))\n",
    "        playerboard.append([\"0\"] * (x))\n",
    "    return board,playerboard"
   ]
  },
  {
   "cell_type": "code",
   "execution_count": 6,
   "metadata": {},
   "outputs": [],
   "source": [
    "def place_computer_ships(field,ship):\n",
    "    for key,size in ship.items():\n",
    "        length = len(field) - size - 1 \n",
    "        location_y = rand.randint(0,length)\n",
    "#         print(location_y)\n",
    "        \n",
    "#         location_y = location_check(location_y,field,size)\n",
    "        location_x = rand.randint(0,len(field)-1)\n",
    "\n",
    "        for i in range(0,size):\n",
    "            field[location_x-i][location_y] = key\n",
    "    return field    \n",
    "            \n"
   ]
  },
  {
   "cell_type": "code",
   "execution_count": 7,
   "metadata": {},
   "outputs": [],
   "source": [
    "def place_ships(field,ships):\n",
    "    print(\"Captain the enemy is upon us :(. To the battlestations!\")\n",
    "    for key,size in ships.items(): \n",
    "        y = click.prompt('Provide the x coordinate for your {0}'.format(names_ships.get(key)), type=click.IntRange(0, 9))\n",
    "        x = click.prompt('Provide the y coordinate for your {0}'.format(names_ships.get(key)), type=click.IntRange(0, 9))\n",
    "        for i in range(0,size):\n",
    "            field[x-i][y] = key\n",
    "    \n",
    "    return field"
   ]
  },
  {
   "cell_type": "code",
   "execution_count": 8,
   "metadata": {},
   "outputs": [],
   "source": [
    "def location_check(location,field,size):\n",
    "    fieldsize = (len(field) -1) \n",
    "    if location + size > (fieldsize):\n",
    "        x = (fieldsize - (size + location))\n",
    "#         y = y - x\n",
    "        return location + x \n",
    "    else:\n",
    "        return location"
   ]
  },
  {
   "cell_type": "code",
   "execution_count": 2,
   "metadata": {},
   "outputs": [],
   "source": [
    "def shooting(player,field):\n",
    "    if player != 'Human':\n",
    "        x_shot = rand.randint(0,len(field)-1)\n",
    "        y_shot = rand.randint(0,len(field)-1)\n",
    "        return int(y_shot),int(x_shot) \n",
    "    \n",
    "    else:\n",
    "        x_shot = click.prompt(\"\"\"Sir provide the fire X coordinates between 0 and 9 \"\"\", type=click.IntRange(0, 9))\n",
    "        y_shot = click.prompt(\"\"\"Sir provide the fire X coordinates between 0 and 9 \"\"\", type=click.IntRange(0, 9))\n",
    "        \n",
    "        \n",
    "        if x_shot == 13 or y_shot == 13:\n",
    "            print('See you later captain chickenshit :)')\n",
    "            exit()\n",
    "        \n",
    "        else:\n",
    "            return int(y_shot),int(x_shot) "
   ]
  },
  {
   "cell_type": "code",
   "execution_count": 10,
   "metadata": {},
   "outputs": [],
   "source": [
    "# def shooting(player,field):\n",
    "#     if player != 'Human':\n",
    "#         x_shot = rand.randint(0,len(field)-1)\n",
    "#         y_shot = rand.randint(0,len(field)-1)\n",
    "#         return int(y_shot),int(x_shot) \n",
    "    \n",
    "#     else:\n",
    "#         while True:\n",
    "#             try:\n",
    "#                 x_shot = int(input('Sir provide the fire X coordinates between 0 and 9 : '))\n",
    "#                 y_shot = int(input('Sir provide the fire Y coordinates between 0 and 9 : '))\n",
    "# #                 cond = (y_shot == 99) or (x_shot == 99)\n",
    "#             except ValueError:\n",
    "#                 print(\"Sorry captain I don't understand your orders\")\n",
    "#                 continue\n",
    "            \n",
    "#             if(y_shot == 99 or x_shot == 99):\n",
    "#                 print('You are a coward captain you are leaving our men behind')\n",
    "#                 exit()\n",
    "#             if(y_shot == 99 or x_shot == 99):\n",
    "#                 print('You are a coward captain you are leaving our men behind')\n",
    "#                 exit()     \n",
    "#             if y_shot < 0 or x_shot <0 :\n",
    "#                 print(\"Your coordinate is not on the map\")\n",
    "#                 continue\n",
    "#             elif  (x_shot > 9) or  (y_shot > 9):\n",
    "#                 print(\"Your coordinate is not on the map\")\n",
    "#             else:\n",
    "#                 return int(y_shot),int(x_shot) \n",
    "    "
   ]
  },
  {
   "cell_type": "code",
   "execution_count": 10,
   "metadata": {},
   "outputs": [],
   "source": [
    "def player_move(hitpoints,player):\n",
    "    coordinates = shooting('Human',player)\n",
    "    space = player[coordinates[0]][coordinates[1]] \n",
    "    if space == '0':\n",
    "        print('We missed Captain, the enemy has {} hitpoints left'.format(hitpoints))\n",
    "        player[coordinates[0]][coordinates[1]]  = 'X'\n",
    "        return hitpoints,player\n",
    "    elif space == 'X':\n",
    "        print('We already hit this space sir')\n",
    "        return hitpoints,player\n",
    "    else: \n",
    "        hitpoints -= 1\n",
    "        print('')\n",
    "        print('We have hit their {0}, they have: {1} hitpoint left'.format(names_ships.get(space),hitpoints))\n",
    "        player[coordinates[0]][coordinates[1]] = 'X'\n",
    "        return hitpoints,player"
   ]
  },
  {
   "cell_type": "code",
   "execution_count": 11,
   "metadata": {},
   "outputs": [],
   "source": [
    "def enemy_move(hitpoints,enemy):\n",
    "    coordinates = shooting('CPU',enemy)\n",
    "    space = enemy[coordinates[0]][coordinates[1]] \n",
    "    if space == '0':\n",
    "        print('The missed us captain , our fleet has {} hitpoints left'.format(hitpoints))\n",
    "        enemy[coordinates[0]][coordinates[1]]  = 'X'\n",
    "        return hitpoints,enemy\n",
    "    elif space == 'X':\n",
    "        print('They have hit the same spot again ')\n",
    "        return hitpoints,enemy\n",
    "    else: \n",
    "        hitpoints -= 1\n",
    "        print('')\n",
    "        print('\\nThey have hit our {0}, our fleet has: {1} hitpoint left\\n'.format(names_ships.get(space),hitpoints))\n",
    "        enemy[coordinates[0]][coordinates[1]]  = 'X'\n",
    "        return hitpoints,enemy"
   ]
  },
  {
   "cell_type": "code",
   "execution_count": 12,
   "metadata": {},
   "outputs": [],
   "source": [
    "def play_game():\n",
    "    \n",
    "    field_size = determine_size()\n",
    "    \n",
    "    try: \n",
    "        enemy,player = make_field(field_size)\n",
    "\n",
    "        enemy = place_computer_ships(enemy,ships)\n",
    "\n",
    "        player = place_ships(player,ships)\n",
    "\n",
    "        hitpoints_enemy = len([j for i in enemy for j in i if j != '0' and j != 'X'])\n",
    "        hitpoints_player = len([j for i in player for j in i if j != '0' and j != 'X'])\n",
    "\n",
    "        while hitpoints_enemy or hitpoints_player:\n",
    "            try:\n",
    "                hitpoints_player,player =  enemy_move(hitpoints_player,player)\n",
    "                hitpoints_enemy,enemy =  player_move(hitpoints_enemy,enemy)\n",
    "                if hitpoints_enemy < 1:\n",
    "                    print('We won the battle captain the sea is ours')\n",
    "                    break\n",
    "                elif hitpoints_player < 1:\n",
    "                    print('They finished our last ship Captain we are doomed')\n",
    "                    break\n",
    "                if (hitpoints_enemy != 0 or hitpoints_player != 0):\n",
    "                    continue\n",
    "            except (TypeError,ValueError):\n",
    "                print('We follow your lead captain')\n",
    "    except:\n",
    "        print('Thanks or playing')"
   ]
  },
  {
   "cell_type": "markdown",
   "metadata": {},
   "source": [
    "# play_game()"
   ]
  },
  {
   "cell_type": "markdown",
   "metadata": {},
   "source": [
    "play_game()"
   ]
  },
  {
   "cell_type": "code",
   "execution_count": 1,
   "metadata": {},
   "outputs": [
    {
     "ename": "NameError",
     "evalue": "name 'play_game' is not defined",
     "output_type": "error",
     "traceback": [
      "\u001b[1;31m---------------------------------------------------------------------------\u001b[0m",
      "\u001b[1;31mNameError\u001b[0m                                 Traceback (most recent call last)",
      "\u001b[1;32m<ipython-input-1-51076e9b4cab>\u001b[0m in \u001b[0;36m<module>\u001b[1;34m\u001b[0m\n\u001b[1;32m----> 1\u001b[1;33m \u001b[0mplay_game\u001b[0m\u001b[1;33m(\u001b[0m\u001b[1;33m)\u001b[0m\u001b[1;33m\u001b[0m\u001b[1;33m\u001b[0m\u001b[0m\n\u001b[0m",
      "\u001b[1;31mNameError\u001b[0m: name 'play_game' is not defined"
     ]
    }
   ],
   "source": [
    "play_game()"
   ]
  },
  {
   "cell_type": "code",
   "execution_count": 35,
   "metadata": {},
   "outputs": [
    {
     "name": "stdout",
     "output_type": "stream",
     "text": [
      "How big should I make the playboard? \n",
      " provide me with a number between 10-12 to define the witdh and length of the board.\n",
      "            \n",
      "\n",
      "\n",
      " Type 99 to exit the game \n",
      "\n",
      "10\n",
      "Captain the enemy is upon us :(. To the battlestations!\n",
      "Provide the x coordinate for your Submarine: 99\n",
      "Error: 99 is not in the valid range of 0 to 9.\n",
      "Provide the x coordinate for your Submarine: 99\n",
      "Error: 99 is not in the valid range of 0 to 9.\n",
      "Provide the x coordinate for your Submarine: 0\n",
      "Provide the y coordinate for your Submarine: 0\n",
      "Provide the x coordinate for your Destroyer: 1\n",
      "Provide the y coordinate for your Destroyer: 1\n",
      "Provide the x coordinate for your Cruiser: 2\n",
      "Provide the y coordinate for your Cruiser: 2\n",
      "Provide the x coordinate for your Battleship: 99\n",
      "Error: 99 is not in the valid range of 0 to 9.\n",
      "Provide the x coordinate for your Battleship: 3\n",
      "Provide the y coordinate for your Battleship: 3\n",
      "Provide the x coordinate for your Carrier: 4\n",
      "Provide the y coordinate for your Carrier: 4\n",
      "\n",
      "\n",
      "They have hit our Battleship, our fleet has: 14 hitpoint left\n",
      "\n",
      "Sir provide the fire X coordinates between 0 and 9 : 99\n",
      "Sir provide the fire Y coordinates between 0 and 9 : 99\n",
      "You are a coward captain you are leaving our men behind\n",
      "Your coordinate is not on the map\n",
      "Sir provide the fire X coordinates between 0 and 9 : 99\n",
      "Sir provide the fire Y coordinates between 0 and 9 : 99\n",
      "You are a coward captain you are leaving our men behind\n",
      "Your coordinate is not on the map\n"
     ]
    },
    {
     "ename": "KeyboardInterrupt",
     "evalue": "Interrupted by user",
     "output_type": "error",
     "traceback": [
      "\u001b[1;31m---------------------------------------------------------------------------\u001b[0m",
      "\u001b[1;31mKeyboardInterrupt\u001b[0m                         Traceback (most recent call last)",
      "\u001b[1;32m<ipython-input-35-51f468b66940>\u001b[0m in \u001b[0;36m<module>\u001b[1;34m\u001b[0m\n\u001b[0;32m      5\u001b[0m \u001b[1;31m#         word = get_word()\u001b[0m\u001b[1;33m\u001b[0m\u001b[1;33m\u001b[0m\u001b[1;33m\u001b[0m\u001b[0m\n\u001b[0;32m      6\u001b[0m         \u001b[0mplay_game\u001b[0m\u001b[1;33m(\u001b[0m\u001b[1;33m)\u001b[0m\u001b[1;33m\u001b[0m\u001b[1;33m\u001b[0m\u001b[0m\n\u001b[1;32m----> 7\u001b[1;33m \u001b[0mmain\u001b[0m\u001b[1;33m(\u001b[0m\u001b[1;33m)\u001b[0m\u001b[1;33m\u001b[0m\u001b[1;33m\u001b[0m\u001b[0m\n\u001b[0m",
      "\u001b[1;32m<ipython-input-35-51f468b66940>\u001b[0m in \u001b[0;36mmain\u001b[1;34m()\u001b[0m\n\u001b[0;32m      1\u001b[0m \u001b[1;32mdef\u001b[0m \u001b[0mmain\u001b[0m\u001b[1;33m(\u001b[0m\u001b[1;33m)\u001b[0m\u001b[1;33m:\u001b[0m\u001b[1;33m\u001b[0m\u001b[1;33m\u001b[0m\u001b[0m\n\u001b[1;32m----> 2\u001b[1;33m     \u001b[0mplay_game\u001b[0m\u001b[1;33m(\u001b[0m\u001b[1;33m)\u001b[0m\u001b[1;33m\u001b[0m\u001b[1;33m\u001b[0m\u001b[0m\n\u001b[0m\u001b[0;32m      3\u001b[0m \u001b[1;31m#     game_on(word)\u001b[0m\u001b[1;33m\u001b[0m\u001b[1;33m\u001b[0m\u001b[1;33m\u001b[0m\u001b[0m\n\u001b[0;32m      4\u001b[0m     \u001b[1;32mwhile\u001b[0m \u001b[0minput\u001b[0m\u001b[1;33m(\u001b[0m\u001b[1;34m\"Play Again? (Y/N) \"\u001b[0m\u001b[1;33m)\u001b[0m\u001b[1;33m.\u001b[0m\u001b[0mupper\u001b[0m\u001b[1;33m(\u001b[0m\u001b[1;33m)\u001b[0m \u001b[1;33m==\u001b[0m \u001b[1;34m\"Y\"\u001b[0m\u001b[1;33m:\u001b[0m \u001b[1;31m#gives the user the option to play again\u001b[0m\u001b[1;33m\u001b[0m\u001b[1;33m\u001b[0m\u001b[0m\n\u001b[0;32m      5\u001b[0m \u001b[1;31m#         word = get_word()\u001b[0m\u001b[1;33m\u001b[0m\u001b[1;33m\u001b[0m\u001b[1;33m\u001b[0m\u001b[0m\n",
      "\u001b[1;32m<ipython-input-12-5b0f775c33ae>\u001b[0m in \u001b[0;36mplay_game\u001b[1;34m()\u001b[0m\n\u001b[0;32m     13\u001b[0m         \u001b[1;32mtry\u001b[0m\u001b[1;33m:\u001b[0m\u001b[1;33m\u001b[0m\u001b[1;33m\u001b[0m\u001b[0m\n\u001b[0;32m     14\u001b[0m             \u001b[0mhitpoints_player\u001b[0m\u001b[1;33m,\u001b[0m\u001b[0mplayer\u001b[0m \u001b[1;33m=\u001b[0m  \u001b[0menemy_move\u001b[0m\u001b[1;33m(\u001b[0m\u001b[0mhitpoints_player\u001b[0m\u001b[1;33m,\u001b[0m\u001b[0mplayer\u001b[0m\u001b[1;33m)\u001b[0m\u001b[1;33m\u001b[0m\u001b[1;33m\u001b[0m\u001b[0m\n\u001b[1;32m---> 15\u001b[1;33m             \u001b[0mhitpoints_enemy\u001b[0m\u001b[1;33m,\u001b[0m\u001b[0menemy\u001b[0m \u001b[1;33m=\u001b[0m  \u001b[0mplayer_move\u001b[0m\u001b[1;33m(\u001b[0m\u001b[0mhitpoints_enemy\u001b[0m\u001b[1;33m,\u001b[0m\u001b[0menemy\u001b[0m\u001b[1;33m)\u001b[0m\u001b[1;33m\u001b[0m\u001b[1;33m\u001b[0m\u001b[0m\n\u001b[0m\u001b[0;32m     16\u001b[0m             \u001b[1;32mif\u001b[0m \u001b[0mhitpoints_enemy\u001b[0m \u001b[1;33m<\u001b[0m \u001b[1;36m1\u001b[0m\u001b[1;33m:\u001b[0m\u001b[1;33m\u001b[0m\u001b[1;33m\u001b[0m\u001b[0m\n\u001b[0;32m     17\u001b[0m                 \u001b[0mprint\u001b[0m\u001b[1;33m(\u001b[0m\u001b[1;34m'We won the battle captain the sea is ours'\u001b[0m\u001b[1;33m)\u001b[0m\u001b[1;33m\u001b[0m\u001b[1;33m\u001b[0m\u001b[0m\n",
      "\u001b[1;32m<ipython-input-9-36bb396b9015>\u001b[0m in \u001b[0;36mplayer_move\u001b[1;34m(hitpoints, player)\u001b[0m\n\u001b[0;32m      1\u001b[0m \u001b[1;32mdef\u001b[0m \u001b[0mplayer_move\u001b[0m\u001b[1;33m(\u001b[0m\u001b[0mhitpoints\u001b[0m\u001b[1;33m,\u001b[0m\u001b[0mplayer\u001b[0m\u001b[1;33m)\u001b[0m\u001b[1;33m:\u001b[0m\u001b[1;33m\u001b[0m\u001b[1;33m\u001b[0m\u001b[0m\n\u001b[1;32m----> 2\u001b[1;33m     \u001b[0mcoordinates\u001b[0m \u001b[1;33m=\u001b[0m \u001b[0mshooting\u001b[0m\u001b[1;33m(\u001b[0m\u001b[1;34m'Human'\u001b[0m\u001b[1;33m,\u001b[0m\u001b[0mplayer\u001b[0m\u001b[1;33m)\u001b[0m\u001b[1;33m\u001b[0m\u001b[1;33m\u001b[0m\u001b[0m\n\u001b[0m\u001b[0;32m      3\u001b[0m     \u001b[0mspace\u001b[0m \u001b[1;33m=\u001b[0m \u001b[0mplayer\u001b[0m\u001b[1;33m[\u001b[0m\u001b[0mcoordinates\u001b[0m\u001b[1;33m[\u001b[0m\u001b[1;36m0\u001b[0m\u001b[1;33m]\u001b[0m\u001b[1;33m]\u001b[0m\u001b[1;33m[\u001b[0m\u001b[0mcoordinates\u001b[0m\u001b[1;33m[\u001b[0m\u001b[1;36m1\u001b[0m\u001b[1;33m]\u001b[0m\u001b[1;33m]\u001b[0m\u001b[1;33m\u001b[0m\u001b[1;33m\u001b[0m\u001b[0m\n\u001b[0;32m      4\u001b[0m     \u001b[1;32mif\u001b[0m \u001b[0mspace\u001b[0m \u001b[1;33m==\u001b[0m \u001b[1;34m'0'\u001b[0m\u001b[1;33m:\u001b[0m\u001b[1;33m\u001b[0m\u001b[1;33m\u001b[0m\u001b[0m\n\u001b[0;32m      5\u001b[0m         \u001b[0mprint\u001b[0m\u001b[1;33m(\u001b[0m\u001b[1;34m'We missed Captain, the enemy has {} hitpoints left'\u001b[0m\u001b[1;33m.\u001b[0m\u001b[0mformat\u001b[0m\u001b[1;33m(\u001b[0m\u001b[0mhitpoints\u001b[0m\u001b[1;33m)\u001b[0m\u001b[1;33m)\u001b[0m\u001b[1;33m\u001b[0m\u001b[1;33m\u001b[0m\u001b[0m\n",
      "\u001b[1;32m<ipython-input-8-eb80531901ed>\u001b[0m in \u001b[0;36mshooting\u001b[1;34m(player, field)\u001b[0m\n\u001b[0;32m      8\u001b[0m         \u001b[1;32mwhile\u001b[0m \u001b[1;32mTrue\u001b[0m\u001b[1;33m:\u001b[0m\u001b[1;33m\u001b[0m\u001b[1;33m\u001b[0m\u001b[0m\n\u001b[0;32m      9\u001b[0m             \u001b[1;32mtry\u001b[0m\u001b[1;33m:\u001b[0m\u001b[1;33m\u001b[0m\u001b[1;33m\u001b[0m\u001b[0m\n\u001b[1;32m---> 10\u001b[1;33m                 \u001b[0mx_shot\u001b[0m \u001b[1;33m=\u001b[0m \u001b[0mint\u001b[0m\u001b[1;33m(\u001b[0m\u001b[0minput\u001b[0m\u001b[1;33m(\u001b[0m\u001b[1;34m'Sir provide the fire X coordinates between 0 and 9 : '\u001b[0m\u001b[1;33m)\u001b[0m\u001b[1;33m)\u001b[0m\u001b[1;33m\u001b[0m\u001b[1;33m\u001b[0m\u001b[0m\n\u001b[0m\u001b[0;32m     11\u001b[0m                 \u001b[0my_shot\u001b[0m \u001b[1;33m=\u001b[0m \u001b[0mint\u001b[0m\u001b[1;33m(\u001b[0m\u001b[0minput\u001b[0m\u001b[1;33m(\u001b[0m\u001b[1;34m'Sir provide the fire Y coordinates between 0 and 9 : '\u001b[0m\u001b[1;33m)\u001b[0m\u001b[1;33m)\u001b[0m\u001b[1;33m\u001b[0m\u001b[1;33m\u001b[0m\u001b[0m\n\u001b[0;32m     12\u001b[0m                 \u001b[0mcond\u001b[0m \u001b[1;33m=\u001b[0m \u001b[1;33m(\u001b[0m\u001b[0my_shot\u001b[0m \u001b[1;33m==\u001b[0m \u001b[1;36m99\u001b[0m\u001b[1;33m)\u001b[0m \u001b[1;32mor\u001b[0m \u001b[1;33m(\u001b[0m\u001b[0mx_shot\u001b[0m \u001b[1;33m==\u001b[0m \u001b[1;36m99\u001b[0m\u001b[1;33m)\u001b[0m\u001b[1;33m\u001b[0m\u001b[1;33m\u001b[0m\u001b[0m\n",
      "\u001b[1;32mc:\\python38\\lib\\site-packages\\ipykernel\\kernelbase.py\u001b[0m in \u001b[0;36mraw_input\u001b[1;34m(self, prompt)\u001b[0m\n\u001b[0;32m    858\u001b[0m                 \u001b[1;34m\"raw_input was called, but this frontend does not support input requests.\"\u001b[0m\u001b[1;33m\u001b[0m\u001b[1;33m\u001b[0m\u001b[0m\n\u001b[0;32m    859\u001b[0m             )\n\u001b[1;32m--> 860\u001b[1;33m         return self._input_request(str(prompt),\n\u001b[0m\u001b[0;32m    861\u001b[0m             \u001b[0mself\u001b[0m\u001b[1;33m.\u001b[0m\u001b[0m_parent_ident\u001b[0m\u001b[1;33m,\u001b[0m\u001b[1;33m\u001b[0m\u001b[1;33m\u001b[0m\u001b[0m\n\u001b[0;32m    862\u001b[0m             \u001b[0mself\u001b[0m\u001b[1;33m.\u001b[0m\u001b[0m_parent_header\u001b[0m\u001b[1;33m,\u001b[0m\u001b[1;33m\u001b[0m\u001b[1;33m\u001b[0m\u001b[0m\n",
      "\u001b[1;32mc:\\python38\\lib\\site-packages\\ipykernel\\kernelbase.py\u001b[0m in \u001b[0;36m_input_request\u001b[1;34m(self, prompt, ident, parent, password)\u001b[0m\n\u001b[0;32m    902\u001b[0m             \u001b[1;32mexcept\u001b[0m \u001b[0mKeyboardInterrupt\u001b[0m\u001b[1;33m:\u001b[0m\u001b[1;33m\u001b[0m\u001b[1;33m\u001b[0m\u001b[0m\n\u001b[0;32m    903\u001b[0m                 \u001b[1;31m# re-raise KeyboardInterrupt, to truncate traceback\u001b[0m\u001b[1;33m\u001b[0m\u001b[1;33m\u001b[0m\u001b[1;33m\u001b[0m\u001b[0m\n\u001b[1;32m--> 904\u001b[1;33m                 \u001b[1;32mraise\u001b[0m \u001b[0mKeyboardInterrupt\u001b[0m\u001b[1;33m(\u001b[0m\u001b[1;34m\"Interrupted by user\"\u001b[0m\u001b[1;33m)\u001b[0m \u001b[1;32mfrom\u001b[0m \u001b[1;32mNone\u001b[0m\u001b[1;33m\u001b[0m\u001b[1;33m\u001b[0m\u001b[0m\n\u001b[0m\u001b[0;32m    905\u001b[0m             \u001b[1;32mexcept\u001b[0m \u001b[0mException\u001b[0m \u001b[1;32mas\u001b[0m \u001b[0me\u001b[0m\u001b[1;33m:\u001b[0m\u001b[1;33m\u001b[0m\u001b[1;33m\u001b[0m\u001b[0m\n\u001b[0;32m    906\u001b[0m                 \u001b[0mself\u001b[0m\u001b[1;33m.\u001b[0m\u001b[0mlog\u001b[0m\u001b[1;33m.\u001b[0m\u001b[0mwarning\u001b[0m\u001b[1;33m(\u001b[0m\u001b[1;34m\"Invalid Message:\"\u001b[0m\u001b[1;33m,\u001b[0m \u001b[0mexc_info\u001b[0m\u001b[1;33m=\u001b[0m\u001b[1;32mTrue\u001b[0m\u001b[1;33m)\u001b[0m\u001b[1;33m\u001b[0m\u001b[1;33m\u001b[0m\u001b[0m\n",
      "\u001b[1;31mKeyboardInterrupt\u001b[0m: Interrupted by user"
     ]
    }
   ],
   "source": [
    "# def main():\n",
    "#     play_game()\n",
    "# #     game_on(word)\n",
    "#     while input(\"Play Again? (Y/N) \").upper() == \"Y\": #gives the user the option to play again\n",
    "# #         word = get_word()\n",
    "#         play_game()\n",
    "# main()"
   ]
  }
 ],
 "metadata": {
  "kernelspec": {
   "display_name": "Python 3",
   "language": "python",
   "name": "python3"
  },
  "language_info": {
   "codemirror_mode": {
    "name": "ipython",
    "version": 3
   },
   "file_extension": ".py",
   "mimetype": "text/x-python",
   "name": "python",
   "nbconvert_exporter": "python",
   "pygments_lexer": "ipython3",
   "version": "3.8.3"
  }
 },
 "nbformat": 4,
 "nbformat_minor": 4
}
