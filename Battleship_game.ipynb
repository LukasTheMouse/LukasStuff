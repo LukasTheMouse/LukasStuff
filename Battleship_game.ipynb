{
 "cells": [
  {
   "cell_type": "code",
   "execution_count": 1,
   "metadata": {},
   "outputs": [],
   "source": [
    "import random as rand\n",
    "\n",
    "ships = {'S':1,'D':2,'C':3,'B':4,'A':5}\n",
    "\n",
    "names_ships = {'S':'Submarine','D':'Destroyer','C':'Cruiser','B':'Battleship','A':'Carrier'}"
   ]
  },
  {
   "cell_type": "code",
   "execution_count": 2,
   "metadata": {},
   "outputs": [],
   "source": [
    "def determine_size():\n",
    "    x = input('How big should I make the playboard? \\n provide me with a number between 10-12 to define the witdh and length of the x-axis: ')\n",
    "   \n",
    "    y = x\n",
    "#     y = input('How big should I make the playboard? \\n provide me with a number between 10-12 to define the length of the y-axis: ')\n",
    "    \n",
    "    print('The size of the field is {} x {}'.format(x,y)) \n",
    "    \n",
    "    return x\n",
    "    "
   ]
  },
  {
   "cell_type": "code",
   "execution_count": 3,
   "metadata": {},
   "outputs": [],
   "source": [
    "def make_field(x):\n",
    "    x = int(x)\n",
    "    board = []\n",
    "    playerboard = []\n",
    "    for i in range(x):\n",
    "        board.append([\"0\"] * (x))\n",
    "        playerboard.append([\"0\"] * (x))\n",
    "    return board,playerboard"
   ]
  },
  {
   "cell_type": "code",
   "execution_count": 4,
   "metadata": {},
   "outputs": [],
   "source": [
    "def place_computer_ships(field,ship):\n",
    "    for key,size in ship.items():\n",
    "        length = len(field) - size - 1 \n",
    "        location_y = rand.randint(0,length)\n",
    "        print(location_y)\n",
    "        \n",
    "#         location_y = location_check(location_y,field,size)\n",
    "        location_x = rand.randint(0,len(field)-1)\n",
    "\n",
    "        for i in range(0,size):\n",
    "            field[location_x-i][location_y] = key\n",
    "    return field    \n",
    "            \n"
   ]
  },
  {
   "cell_type": "code",
   "execution_count": 5,
   "metadata": {},
   "outputs": [],
   "source": [
    "def place_ships(ships,field):\n",
    "    print(\"Captain the enemy is upon us :(. To the battlestations!\")\n",
    "    for key,size in ships.items(): \n",
    "        x = int(input('Provide the x coordinate for your {0}'.format(names_ships.get(key))))\n",
    "        y = int(input('Provide the y coordinate for your {0}'.format(names_ships.get(key))))\n",
    "#         field[int(x)][int(y)] = key\n",
    "        for i in range(0,size):\n",
    "            field[x-i][y] = key\n",
    "    \n",
    "    return field"
   ]
  },
  {
   "cell_type": "code",
   "execution_count": 29,
   "metadata": {},
   "outputs": [],
   "source": [
    "def location_check(location,field,size):\n",
    "    fieldsize = (len(field) -1) \n",
    "    if location + size > (fieldsize):\n",
    "        x = (fieldsize - (size + location))\n",
    "#         y = y - x\n",
    "        return location + x \n",
    "    else:\n",
    "        return location"
   ]
  },
  {
   "cell_type": "markdown",
   "metadata": {},
   "source": [
    "###### field = enemy\n",
    "y_loc = 10\n",
    "size = 5"
   ]
  },
  {
   "cell_type": "code",
   "execution_count": 9,
   "metadata": {},
   "outputs": [],
   "source": [
    "def shooting(player,field):\n",
    "    if player == 'Human':\n",
    "        x_shot = input('Sir provide the fire X coordinate: ') \n",
    "        y_shot = input('Sir provide the fire Y coordinate: ')\n",
    "#     if x_shot == 'Exit' or y_shot == 'Exit':\n",
    "    else:\n",
    "        x_shot = rand.randint(0,len(field)-1)\n",
    "        y_shot = rand.randint(0,len(field)-1)\n",
    "#     else:\n",
    "    return int(y_shot),int(x_shot) "
   ]
  },
  {
   "cell_type": "code",
   "execution_count": 11,
   "metadata": {},
   "outputs": [],
   "source": [
    "def player_move(hitpoints):\n",
    "    coordinates = shooting('Human',player)\n",
    "    space = enemy[coordinates[0]][coordinates[1]] \n",
    "    if space == '0':\n",
    "        print('We missed Captain, the enemy has {} hitpoints left'.format(hitpoints))\n",
    "        space = 'X'\n",
    "        return hitpoints\n",
    "    elif space == 'X':\n",
    "        print('We already hit this space sir')\n",
    "        return hitpoints\n",
    "    else: \n",
    "        hitpoints -= 1\n",
    "        print('')\n",
    "        print('We have hit their {0}, they have: {1} hitpoint left'.format(names_ships.get(space),hitpoints))\n",
    "        return hitpoints"
   ]
  },
  {
   "cell_type": "code",
   "execution_count": 12,
   "metadata": {},
   "outputs": [],
   "source": [
    "def enemy_move(hitpoints):\n",
    "    coordinates = shooting('CPU',player)\n",
    "    space = enemy[coordinates[0]][coordinates[1]] \n",
    "    if space == '0':\n",
    "        print('The missed us captain , our fleet has {} hitpoints left'.format(hitpoints))\n",
    "        space = 'X'\n",
    "        return hitpoints\n",
    "    elif space == 'X':\n",
    "        print('They have hit the same spot again ')\n",
    "        return hitpoints\n",
    "    else: \n",
    "        hitpoints -= 1\n",
    "        print('')\n",
    "        print('They have hit our {0}, our fleet has: {1} hitpoint left'.format(names_ships.get(space),hitpoints))\n",
    "        return hitpoints"
   ]
  },
  {
   "cell_type": "code",
   "execution_count": null,
   "metadata": {},
   "outputs": [],
   "source": [
    "def play_game()\n",
    "    \n",
    "    enemy,c = make_field(determine_size())\n",
    "    \n",
    "    enemy = place_computer_ships(enemy,ships)\n",
    "    \n",
    "    player = place_ships(ships,player)\n",
    "    \n",
    "    \n",
    "    hitpoints_enemy = len([j for i in enemy for j in i if j != '0' and j != 'X'])\n",
    "    hitpoints_player = len([j for i in player for j in i if j != '0' and j != 'X'])\n",
    "\n",
    "    while hitpoints_enemy or hitpoints_player:\n",
    "\n",
    "\n",
    "        hitpoints_enemy =  enemy_move(hitpoints_enemy)\n",
    "\n",
    "        hitpoints_player =  player_move(hitpoints_player)\n",
    "\n",
    "\n",
    "#     print('We have won the battle captain')"
   ]
  }
 ],
 "metadata": {
  "kernelspec": {
   "display_name": "Python 3",
   "language": "python",
   "name": "python3"
  },
  "language_info": {
   "codemirror_mode": {
    "name": "ipython",
    "version": 3
   },
   "file_extension": ".py",
   "mimetype": "text/x-python",
   "name": "python",
   "nbconvert_exporter": "python",
   "pygments_lexer": "ipython3",
   "version": "3.8.3"
  }
 },
 "nbformat": 4,
 "nbformat_minor": 4
}
